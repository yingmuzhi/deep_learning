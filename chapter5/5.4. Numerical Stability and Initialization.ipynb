{
 "cells": [
  {
   "cell_type": "markdown",
   "metadata": {},
   "source": [
    "## x.1 梯度消失，梯度爆炸和参数初始化\n",
    "\n",
    "sigmoid函数可能会导致梯度消失\n",
    "\n",
    "而网络层数过深时会引起梯度爆炸\n",
    "\n",
    "参数初始化很重要，他甚至决定了你的模型什么时候收敛。常见的初始化方式有Normal初始化，Xavier初始化等，何铠明初始化。"
   ]
  },
  {
   "cell_type": "code",
   "execution_count": null,
   "metadata": {},
   "outputs": [],
   "source": []
  }
 ],
 "metadata": {
  "language_info": {
   "name": "python"
  }
 },
 "nbformat": 4,
 "nbformat_minor": 2
}
