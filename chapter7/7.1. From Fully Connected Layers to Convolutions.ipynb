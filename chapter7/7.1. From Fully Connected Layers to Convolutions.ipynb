{
 "cells": [
  {
   "cell_type": "markdown",
   "metadata": {},
   "source": [
    "## x.1 CNN和他的平移不变性\n",
    "\n",
    "对于有结构数据，例如表格数据，我们使用MLP仍然是非常合适的。但是当我们的数据输入是如图像一样的有百万像素点的结构化数据时，CNN则适用性更加良好。\n",
    "\n",
    "**平移不变性**在CNN网络有很好的体现：无论用什么方法识别物体，都不会过度关注物体在图像中的精确位置。卷积助力平移不变性的实现。\n",
    "\n",
    "CNN和MLP在处理相同数据时，CNN对参数的要求更少。相比较MLP的参数量，CNN参数量大大降低。"
   ]
  },
  {
   "cell_type": "code",
   "execution_count": null,
   "metadata": {},
   "outputs": [],
   "source": []
  }
 ],
 "metadata": {
  "language_info": {
   "name": "python"
  }
 },
 "nbformat": 4,
 "nbformat_minor": 2
}
