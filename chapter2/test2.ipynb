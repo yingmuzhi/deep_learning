{
 "cells": [
  {
   "cell_type": "markdown",
   "metadata": {},
   "source": [
    "## x.1 process structural data such as table using Pandas\n",
    "\n",
    "在前面一节中，简单学习了一下torch的使用，这一章节将学习pandas的使用"
   ]
  },
  {
   "cell_type": "markdown",
   "metadata": {},
   "source": [
    "使用pd.read_csv()读取csv文件\n",
    "\n",
    "使用print(df)来打印DataFrame类型数据"
   ]
  },
  {
   "cell_type": "code",
   "execution_count": 1,
   "metadata": {},
   "outputs": [
    {
     "name": "stdout",
     "output_type": "stream",
     "text": [
      "   NumRooms Alley   Price\n",
      "0       NaN  Pave  127500\n",
      "1       2.0   NaN  106000\n",
      "2       4.0   NaN  178100\n",
      "3       NaN   NaN  140000\n"
     ]
    }
   ],
   "source": [
    "import pandas as pd\n",
    "\n",
    "data_file = \"/home/yingmuzhi/_learning/d2l/data/house_tiny.csv\"\n",
    "data = pd.read_csv(data_file)\n",
    "print(data)"
   ]
  },
  {
   "cell_type": "markdown",
   "metadata": {},
   "source": [
    "使用DataFrame.iloc[:,:]来按照索引值取DataFrame中值\n",
    "\n",
    "使用DataFrame.loc[:, :]来根据行名和列名的具体名字来索引DataFrame中的值"
   ]
  },
  {
   "cell_type": "code",
   "execution_count": 4,
   "metadata": {},
   "outputs": [
    {
     "name": "stdout",
     "output_type": "stream",
     "text": [
      "   NumRooms Alley\n",
      "0       NaN  Pave\n",
      "1       2.0   NaN\n",
      "2       4.0   NaN\n",
      "3       NaN   NaN\n"
     ]
    }
   ],
   "source": [
    "inputs, targets = data.iloc[:, 0:2], data.iloc[:, 2]\n",
    "print(inputs)"
   ]
  },
  {
   "cell_type": "markdown",
   "metadata": {},
   "source": [
    "当输入的csv文件有NA或者3, , , 3这样的数据时，使用Pandas读入就会显示成NaN字符，这是数据科学的“臭虫”. 一般使用平均值来填补臭虫。"
   ]
  },
  {
   "cell_type": "code",
   "execution_count": 5,
   "metadata": {},
   "outputs": [
    {
     "name": "stdout",
     "output_type": "stream",
     "text": [
      "   NumRooms  Alley_Pave  Alley_nan\n",
      "0       NaN           1          0\n",
      "1       2.0           0          1\n",
      "2       4.0           0          1\n",
      "3       NaN           0          1\n"
     ]
    }
   ],
   "source": [
    "inputs = pd.get_dummies(inputs, dummy_na=True)\n",
    "print(inputs)"
   ]
  },
  {
   "cell_type": "code",
   "execution_count": 6,
   "metadata": {},
   "outputs": [
    {
     "name": "stdout",
     "output_type": "stream",
     "text": [
      "   NumRooms  Alley_Pave  Alley_nan\n",
      "0       3.0           1          0\n",
      "1       2.0           0          1\n",
      "2       4.0           0          1\n",
      "3       3.0           0          1\n"
     ]
    }
   ],
   "source": [
    "# using mean\n",
    "inputs = inputs.fillna(inputs.mean())\n",
    "print(inputs)"
   ]
  },
  {
   "cell_type": "markdown",
   "metadata": {},
   "source": [
    "## x.2 将DataFrame类型转为ndarray类型，Tensor类型\n",
    "\n",
    "Pandas一般用于读取和存储数据，在做真正数据处理时候，我们还是更加通用地使用ndarray，Tensor数据类型。\n",
    "\n",
    "我们一般通过将DataFrame先转为list（python自带，不推荐）或者ndarray（numpy自带，推荐）类型，再转为Tensor类型，如下，\n",
    "\n",
    "使用pandas自带的转为numpy类型，DataFrameA.to_numpy()将DataFrame转型。"
   ]
  },
  {
   "cell_type": "code",
   "execution_count": 7,
   "metadata": {},
   "outputs": [
    {
     "data": {
      "text/plain": [
       "(tensor([[3., 1., 0.],\n",
       "         [2., 0., 1.],\n",
       "         [4., 0., 1.],\n",
       "         [3., 0., 1.]], dtype=torch.float64),\n",
       " tensor([127500., 106000., 178100., 140000.], dtype=torch.float64))"
      ]
     },
     "execution_count": 7,
     "metadata": {},
     "output_type": "execute_result"
    }
   ],
   "source": [
    "import torch\n",
    "\n",
    "X = torch.tensor(inputs.to_numpy(dtype=float))\n",
    "y = torch.tensor(targets.to_numpy(dtype=float))\n",
    "X, y"
   ]
  },
  {
   "cell_type": "markdown",
   "metadata": {},
   "source": [
    "## x.3 常见的使用pandas创建DataFrame的方式\n",
    "\n",
    "介绍下面两种常用，一种是使用dict()直接创建数据和列表；一种使用list()声明数据，用column的list声明列名；"
   ]
  },
  {
   "cell_type": "code",
   "execution_count": 5,
   "metadata": {},
   "outputs": [],
   "source": [
    "# 使用dict()\n",
    "df1 = pd.DataFrame({\n",
    "    'wavenumber': [1, 2],\n",
    "    'intensity': [1, 0]\n",
    "})\n",
    "df2 = pd.DataFrame(dict(\n",
    "    wavenumber = [1, 2],\n",
    "    intensity = [1, 0]\n",
    "))\n",
    "\n",
    "# 使用list\n",
    "df3 = pd.DataFrame([\n",
    "    [1, 1],\n",
    "    [2, 0]\n",
    "], columns=[\"wavenumber\", \"intensity\"])\n",
    "\n",
    "# 常见案例，使用list，再逐行增加\n",
    "df_names = [\"wavenumber\", \"intensity\"]\n",
    "df4 = pd.DataFrame(data=[\n",
    "    [1, 1]\n",
    "], columns=df_names)\n",
    "# 增加一行\n",
    "new_line = pd.DataFrame(data=[\n",
    "    [2, 0]\n",
    "], columns=df_names)\n",
    "df = pd.concat([df4, new_line]) # 使用concat将两个DataFrame拼接\n",
    "df.to_csv(\"/home/yingmuzhi/_learning/d2l/chapter2/test2.csv\", index=False)    # 使用to_csv()存储，但是不存储index"
   ]
  }
 ],
 "metadata": {
  "kernelspec": {
   "display_name": "Python 3",
   "language": "python",
   "name": "python3"
  },
  "language_info": {
   "codemirror_mode": {
    "name": "ipython",
    "version": 3
   },
   "file_extension": ".py",
   "mimetype": "text/x-python",
   "name": "python",
   "nbconvert_exporter": "python",
   "pygments_lexer": "ipython3",
   "version": "3.11.0"
  },
  "orig_nbformat": 4
 },
 "nbformat": 4,
 "nbformat_minor": 2
}
