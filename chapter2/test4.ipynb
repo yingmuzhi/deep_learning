{
 "cells": [
  {
   "cell_type": "markdown",
   "metadata": {},
   "source": [
    "## x.1 使用torch对张量进行数据处理 \n",
    "\n",
    "在第一章中我们主要讲解了tensor的创建，在这第三章节中我们主要讲解如何对这些tensor进行数据处理，主要是在Calculus方面的处理。"
   ]
  },
  {
   "cell_type": "code",
   "execution_count": null,
   "metadata": {},
   "outputs": [],
   "source": []
  }
 ],
 "metadata": {
  "language_info": {
   "name": "python"
  }
 },
 "nbformat": 4,
 "nbformat_minor": 2
}
