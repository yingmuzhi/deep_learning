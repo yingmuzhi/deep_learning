{
 "cells": [
  {
   "cell_type": "markdown",
   "metadata": {},
   "source": [
    "## x.1 分类问题\n",
    "\n",
    "线性神经网络，是不加激活函数的网络，他们可以用于预测房价等，这是regression 回归问题，也就是第三章谈论的问题。\n",
    "\n",
    "除此还可以使用线性神经网络进行 Classification 分类问题，这也就是第四章需要讨论的问题。\n",
    "\n",
    "为了表示标签，使用了one-hot编码和softmax函数将概率分布，\n",
    "\n",
    "$$\n",
    "\\text{softmax}(x_i) = \\frac{e^{x_i}}{\\sum_{j=1}^{n} e^{x_j}}\n",
    "$$\n",
    "\n",
    "softmax即将概率分布总和为1"
   ]
  },
  {
   "cell_type": "markdown",
   "metadata": {},
   "source": [
    "我们的损失函数使用极大似然估计来得到，最终近似得到的函数为交叉熵损失\n",
    "\n",
    "$$\n",
    "\\text{CrossEntropyLoss} = -\\frac{1}{N} \\sum_{i=1}^{N} \\sum_{c=1}^{C} y_{ic} \\log(\\hat{y}_{ic})\n",
    "$$\n",
    "\n",
    "这是信息论的知识，里面的数学知识不做探讨"
   ]
  }
 ],
 "metadata": {
  "language_info": {
   "name": "python"
  }
 },
 "nbformat": 4,
 "nbformat_minor": 2
}
