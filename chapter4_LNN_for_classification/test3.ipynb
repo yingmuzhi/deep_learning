{
 "cells": [
  {
   "cell_type": "markdown",
   "metadata": {},
   "source": [
    "## x.1 分类指标——准确性\n",
    "\n",
    "我们制作的是分类任务，而在分类任务中除了loss还有一个很重要的指标——Accuracy（准确性）。我们在每一个validation过程中，增加accuracy准确性指标计算。"
   ]
  },
  {
   "cell_type": "code",
   "execution_count": null,
   "metadata": {},
   "outputs": [],
   "source": [
    "import torch\n",
    "import core"
   ]
  },
  {
   "cell_type": "markdown",
   "metadata": {},
   "source": [
    "在validation step中添加accuracy的计算，并将计算结果绘制.\n",
    "\n",
    "在下面这段代码中有意思的是这样的一段代码`Y_hat = self(*batch[:-1])`。因为我们的batch中（signal, ..., target），只有最后一个是target，所以我们通过解包取出了除了最后一个之前的数据，传入网络中产生y_hat。"
   ]
  },
  {
   "cell_type": "code",
   "execution_count": null,
   "metadata": {},
   "outputs": [],
   "source": [
    "class Classifier(core.Module):\n",
    "    def validation_step(self, batch):\n",
    "        Y_hat = self(*batch[:-1])\n",
    "        self.plot(\"loss\", self.loss(Y_hat, batch[-1]), train=False)\n",
    "        self.plot(\"acc\", self.accuracy(Y_hat, batch[-1]), train=False)"
   ]
  },
  {
   "cell_type": "markdown",
   "metadata": {},
   "source": [
    "使用优化器"
   ]
  },
  {
   "cell_type": "code",
   "execution_count": null,
   "metadata": {},
   "outputs": [],
   "source": [
    "@core.add_to_class(core.Module)  #@save\n",
    "def configure_optimizers(self):\n",
    "    return torch.optim.SGD(self.parameters(), lr=self.lr)"
   ]
  },
  {
   "cell_type": "markdown",
   "metadata": {},
   "source": [
    "accuracy的计算，就是对于真假的计算"
   ]
  },
  {
   "cell_type": "code",
   "execution_count": null,
   "metadata": {},
   "outputs": [],
   "source": [
    "@core.add_to_class(Classifier)\n",
    "def accuracy(self, Y_hat, Y, averaged=True):\n",
    "    Y_hat = Y_hat.reshape((-1, Y_hat.shape[-1]))\n",
    "    preds = Y_hat.argmax(axis=1).type(Y.dtype)\n",
    "    compare = (preds == Y.reshape(-1)).type(torch.float32)\n",
    "    return compare.mean() if averaged else compare"
   ]
  }
 ],
 "metadata": {
  "language_info": {
   "name": "python"
  }
 },
 "nbformat": 4,
 "nbformat_minor": 2
}
