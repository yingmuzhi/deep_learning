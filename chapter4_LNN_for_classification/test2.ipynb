{
 "cells": [
  {
   "cell_type": "markdown",
   "metadata": {},
   "source": [
    "## x.1 数据集介绍\n",
    "\n",
    "最常见的数据集有98年手写数字的MNIST数据集，有60,000张28*28分辨率图像(加上10,000张测试图像)，但大部分模型在这个数据集上的分类准确率都高于95%；\n",
    "\n",
    "09年ImageNet数据集，数据量太过于庞大；\n",
    "\n",
    "推荐17年Fashion-MNIST数据集，包含10类28*28像素的服饰图像；"
   ]
  },
  {
   "cell_type": "code",
   "execution_count": 1,
   "metadata": {},
   "outputs": [],
   "source": [
    "%matplotlib inline\n",
    "import time\n",
    "import torch\n",
    "import torchvision\n",
    "from torchvision import transforms\n",
    "import core\n",
    "\n",
    "core.use_svg_display()"
   ]
  },
  {
   "cell_type": "markdown",
   "metadata": {},
   "source": [
    "由于Fashion-MNIST数据集很常用，torchvision也提供了它的原始数据集和预处理版本，我们在这里直接使用torchvision导入数据集。注意使用torchvision返回的也是**Dataset的实例对象**。\n",
    "\n",
    "我们还使用了`torchvision.transforms.Compose`中torchvision的强大预处理工具"
   ]
  },
  {
   "cell_type": "code",
   "execution_count": 4,
   "metadata": {},
   "outputs": [],
   "source": [
    "class FashionMNIST(core.DataModule):\n",
    "    def __init__(self, batch_size=64, resize=(28, 28), root=\"/home/yingmuzhi/_learning/d2l/data\"):\n",
    "        super().__init__()\n",
    "        self.save_hyperparameters()\n",
    "        trans = torchvision.transforms.Compose([transforms.Resize(resize),\n",
    "                                                transforms.ToTensor()])\n",
    "        self.train = torchvision.datasets.FashionMNIST(\n",
    "            root=self.root, train=True, transform=trans, download=False)\n",
    "        self.val = torchvision.datasets.FashionMNIST(\n",
    "            root=self.root, train=False, transform=trans, download=False)"
   ]
  },
  {
   "cell_type": "markdown",
   "metadata": {},
   "source": [
    "我们看看train和validation数据集中有多少数据"
   ]
  },
  {
   "cell_type": "code",
   "execution_count": 5,
   "metadata": {},
   "outputs": [
    {
     "data": {
      "text/plain": [
       "(60000, 10000)"
      ]
     },
     "execution_count": 5,
     "metadata": {},
     "output_type": "execute_result"
    }
   ],
   "source": [
    "data = FashionMNIST(resize=(32, 32))\n",
    "len(data.train), len(data.val)"
   ]
  },
  {
   "cell_type": "markdown",
   "metadata": {},
   "source": [
    "大部分的现代图形有三个通道（RGB）或者四通道（RGBA），高光谱图像可能有超过100个通道（HyMap）。但无所谓，按照惯例我们将图像存储为`c*h*w`张量，分别对应channel, height, width。我们查看图像的多维信息。\n",
    "\n",
    "通过下面代码我们能够发现在Dataset实例对象中，每次返回的是一个tuple，对应（signal, target），而signal和target都是Tensor类型。\n",
    "\n",
    "在下面代码的最后一行，我们打印出每一个图像Tensor的shape信息，如下，"
   ]
  },
  {
   "cell_type": "code",
   "execution_count": 12,
   "metadata": {},
   "outputs": [
    {
     "name": "stdout",
     "output_type": "stream",
     "text": [
      "<class 'torchvision.datasets.mnist.FashionMNIST'>\n",
      "60000\n",
      "2\n",
      "<class 'torch.Tensor'>\n",
      "torch.Size([1, 32, 32])\n"
     ]
    }
   ],
   "source": [
    "print(type(data.train))\n",
    "print(len(data.train))\n",
    "print(len(data.train[0]))\n",
    "print(type(data.train[0][0]))\n",
    "print(data.train[0][0].shape)"
   ]
  },
  {
   "cell_type": "markdown",
   "metadata": {},
   "source": [
    "我们查看target标签如下"
   ]
  },
  {
   "cell_type": "code",
   "execution_count": 13,
   "metadata": {},
   "outputs": [],
   "source": [
    "@core.add_to_class(FashionMNIST)\n",
    "def text_labels(self, indices):\n",
    "    \"\"\"Return text labels.\"\"\"\n",
    "    labels = ['t-shirt', 'trouser', 'pullover', 'dress', 'coat',\n",
    "              'sandal', 'shirt', 'sneaker', 'bag', 'ankle boot']\n",
    "    return [labels[int(i)] for i in indices]"
   ]
  },
  {
   "cell_type": "markdown",
   "metadata": {},
   "source": [
    "我们已经有train和val的Dataset了，接下来我们只需要重写`get_dataloader`方法，使其根据传入的train的flag读取train的Dataset或者val的Dataset。"
   ]
  },
  {
   "cell_type": "code",
   "execution_count": 14,
   "metadata": {},
   "outputs": [],
   "source": [
    "@core.add_to_class(FashionMNIST)\n",
    "def get_dataloader(self, train):\n",
    "    data = self.train if train else self.val\n",
    "    return torch.utils.data.DataLoader(data, self.batch_size, shuffle=train,\n",
    "                                       num_workers=self.num_workers)"
   ]
  },
  {
   "cell_type": "markdown",
   "metadata": {},
   "source": [
    "至此，我们便完成了DataModule部分，即得到了train的DataLoader和val的DataLoader.\n",
    "\n",
    "我们下面使用经典语法`next(iter(...DataLoader))`来对得到的DataLoader进行测试\n",
    "\n",
    "通过观察我们能够发现图像的组织形式往往是(Batch_Size, Channel, Slice, Height, Width)，而其中的元素类型则是torch.float32类型。"
   ]
  },
  {
   "cell_type": "code",
   "execution_count": 15,
   "metadata": {},
   "outputs": [
    {
     "name": "stdout",
     "output_type": "stream",
     "text": [
      "torch.Size([64, 1, 32, 32]) torch.float32 torch.Size([64]) torch.int64\n"
     ]
    }
   ],
   "source": [
    "X, y = next(iter(data.train_dataloader()))\n",
    "print(X.shape, X.dtype, y.shape, y.dtype)"
   ]
  },
  {
   "cell_type": "markdown",
   "metadata": {},
   "source": [
    "我们查看使用DataLoader读取数据会多快"
   ]
  },
  {
   "cell_type": "code",
   "execution_count": 16,
   "metadata": {},
   "outputs": [
    {
     "data": {
      "text/plain": [
       "'3.57 sec'"
      ]
     },
     "execution_count": 16,
     "metadata": {},
     "output_type": "execute_result"
    }
   ],
   "source": [
    "tic = time.time()\n",
    "for X, y in data.train_dataloader():\n",
    "    continue\n",
    "f'{time.time() - tic:.2f} sec'"
   ]
  },
  {
   "cell_type": "markdown",
   "metadata": {},
   "source": []
  },
  {
   "cell_type": "code",
   "execution_count": null,
   "metadata": {},
   "outputs": [],
   "source": [
    "@core.add_to_class(FashionMNIST)  #@save\n",
    "def visualize(self, batch, nrows=1, ncols=8, labels=[]):\n",
    "    X, y = batch\n",
    "    if not labels:\n",
    "        labels = self.text_labels(y)\n",
    "    core.show_images(X.squeeze(1), nrows, ncols, titles=labels)\n",
    "batch = next(iter(data.val_dataloader()))\n",
    "data.visualize(batch)"
   ]
  }
 ],
 "metadata": {
  "kernelspec": {
   "display_name": "env_cp311_ymz",
   "language": "python",
   "name": "python3"
  },
  "language_info": {
   "codemirror_mode": {
    "name": "ipython",
    "version": 3
   },
   "file_extension": ".py",
   "mimetype": "text/x-python",
   "name": "python",
   "nbconvert_exporter": "python",
   "pygments_lexer": "ipython3",
   "version": "3.11.0"
  }
 },
 "nbformat": 4,
 "nbformat_minor": 2
}
