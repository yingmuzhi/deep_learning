{
 "cells": [
  {
   "cell_type": "markdown",
   "metadata": {},
   "source": [
    "前几章节主要通过one_hot编码，softmax，cross_entropy将预测问题变为了分类问题。将连续的预测结果离散化了。\n",
    "\n",
    "这一节讲了批量学习和偏移，主要是一些数学知识。"
   ]
  },
  {
   "cell_type": "code",
   "execution_count": null,
   "metadata": {},
   "outputs": [],
   "source": []
  }
 ],
 "metadata": {
  "language_info": {
   "name": "python"
  }
 },
 "nbformat": 4,
 "nbformat_minor": 2
}
