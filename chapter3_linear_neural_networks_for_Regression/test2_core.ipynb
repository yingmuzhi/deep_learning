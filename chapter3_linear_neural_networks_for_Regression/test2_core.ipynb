{
 "cells": [
  {
   "cell_type": "markdown",
   "metadata": {},
   "source": [
    "## x.1 Object Oriented Programming（OOP）面向对象程序设计\n",
    "\n",
    "受到PyTorch Lightning等库的启发，我们期望能够创建多个类：Module; DataModule; Trainer\n",
    "\n",
    "1. Module\n",
    "\n",
    "- models\n",
    "- losses\n",
    "- optimization\n",
    "\n",
    "2. DataModule\n",
    "\n",
    "- data loaders for training and validation\n",
    "\n",
    "3. Trainer\n",
    "\n",
    "- train models on a variety of hardware platforms(GPUs, CPUs, parallel training, optimization algorithms)"
   ]
  },
  {
   "cell_type": "markdown",
   "metadata": {},
   "source": [
    "## x.2 一些基础类\n",
    "\n",
    "### x.2.1 `add_to_class`方法\n",
    "\n",
    "首先我们需要在类中增加方法，不然每次更改类都会显得很麻烦。**我们在创建类后可以将函数注册为类中的方法**。\n",
    "\n",
    "使用了python装饰器的知识，在调用的方法外层嵌套了一层函数。"
   ]
  },
  {
   "cell_type": "code",
   "execution_count": 12,
   "metadata": {},
   "outputs": [],
   "source": [
    "def add_to_class(Class):\n",
    "    \"\"\"\n",
    "    intro:\n",
    "        Register functions as methods in created class.\n",
    "    \"\"\"\n",
    "    def wrapper(obj):\n",
    "        setattr(Class, obj.__name__, obj)\n",
    "    return wrapper\n"
   ]
  },
  {
   "cell_type": "markdown",
   "metadata": {},
   "source": [
    "接下来，我们用decorator来测试一下上面的代码"
   ]
  },
  {
   "cell_type": "code",
   "execution_count": 13,
   "metadata": {},
   "outputs": [
    {
     "name": "stdout",
     "output_type": "stream",
     "text": [
      "Class attribute 'b' is  1\n"
     ]
    }
   ],
   "source": [
    "class A:\n",
    "    def __init__(self) -> None:\n",
    "        self.b = 1\n",
    "\n",
    "a = A()\n",
    "\n",
    "@add_to_class(A)\n",
    "def do(self):\n",
    "    print(\"Class attribute 'b' is \", self.b)\n",
    "\n",
    "a.do()"
   ]
  },
  {
   "cell_type": "markdown",
   "metadata": {},
   "source": [
    "### x.2.2 `HyperParameters`类\n",
    "\n",
    "继承HyperParameters的子类，能够在__init__方法中将所有参数保存为类属性\n",
    "\n",
    "`raise NotImplemented` 意味着该方法在基类中只是一个占位符，必须要在子类中进行实现\n",
    "\n",
    "但在下一行中定义了save_hyperparameters，这意味着第二个方法将第一个方法覆盖了，于是前面的方法便不会执行，并不是封装继承多态中的多态。\n",
    "\n",
    "def save_hyperparameters"
   ]
  },
  {
   "cell_type": "code",
   "execution_count": 14,
   "metadata": {},
   "outputs": [],
   "source": [
    "import inspect\n",
    "class HyperParameters:\n",
    "    \"\"\"\n",
    "    intro:\n",
    "        The base class of hyperparameters.\n",
    "    \"\"\"\n",
    "    def save_hyperparameters(self, ignore=[]):\n",
    "        raise NotImplemented\n",
    "    \n",
    "    def save_hyperparameters(self, ignore=[]):\n",
    "        \"\"\"\n",
    "        intro:\n",
    "            Save function arguments into class attributes.\n",
    "        \"\"\"\n",
    "        frame = inspect.currentframe().f_back\n",
    "        _, _, _, local_vars = inspect.getargvalues(frame)\n",
    "        self.hparams = {k:v for k, v in local_vars.items()\n",
    "                        if k not in set(ignore+['self']) and not k.startswith('_')}\n",
    "        for k, v in self.hparams.items():\n",
    "            setattr(self, k, v)"
   ]
  },
  {
   "cell_type": "code",
   "execution_count": 15,
   "metadata": {},
   "outputs": [
    {
     "name": "stdout",
     "output_type": "stream",
     "text": [
      "1 2\n",
      "There is no self.c =  True\n"
     ]
    }
   ],
   "source": [
    "class B(HyperParameters):\n",
    "    def __init__(self, a, b, c):\n",
    "        self.save_hyperparameters(ignore=['c'])\n",
    "        print(self.a, self.b)\n",
    "        print(\"There is no self.c = \", not hasattr(self, 'c'))\n",
    "\n",
    "b = B(a=1, b=2, c=3)"
   ]
  },
  {
   "cell_type": "markdown",
   "metadata": {},
   "source": [
    "### x.2.3 `ProgressBoard`类\n",
    "\n",
    "ProgressBoard类模仿TensorBoard，能够在实验进行时交互式地绘制实验进度。\n",
    "\n"
   ]
  },
  {
   "cell_type": "code",
   "execution_count": 16,
   "metadata": {},
   "outputs": [],
   "source": [
    "class ProgressBoard(HyperParameters):\n",
    "    \"\"\"\n",
    "    intro:\n",
    "        The board that plots data points in animation.\n",
    "    \"\"\"\n",
    "    def __init__(self, xlabel=None, ylabel=None, xlim=None,\n",
    "                 ylim=None, xscale='linear', yscale='linear',\n",
    "                 ls=['-', '--', '-.', ':'], colors=['C0', 'C1', 'C2', 'C3'],\n",
    "                 fig=None, axes=None, figsize=(3.5, 2.5), display=True):\n",
    "        \"\"\"\n",
    "        intro:\n",
    "            The information in plot.\n",
    "        args:\n",
    "            :param str xlabel:\n",
    "        \"\"\"\n",
    "        self.save_hyperparameters()\n",
    "\n",
    "    def draw(self, x, y, label, every_n=1):\n",
    "        raise NotImplemented"
   ]
  },
  {
   "cell_type": "markdown",
   "metadata": {},
   "source": [
    "## x.3 三种类\n",
    "\n",
    "下面将详细介绍一下Module, DataModule, Trainer的抽象类"
   ]
  },
  {
   "cell_type": "markdown",
   "metadata": {},
   "source": [
    "### x.3.1 Module\n",
    "\n",
    "Module是所有模型的基类，我们需要完成三种必须方法和一种可选方法。\n",
    "\n",
    "- `def forward`:  模型参数和数据的计算方式，如何对参数进行训练\n",
    "- `def loss`:     损失函数\n",
    "- `def configure_optimizers`: 书写优化函数，作用在于如何使用算法使得loss最小，且更新参数\n",
    "- `training_step` accepts a data batch to return the loss value.\n",
    "- `validation_step(option)` evaluation measures.\n",
    "\n",
    "Module是`torch.nn.Module`的子类，它的优势在于，当你重写父类的`forward`方法后，会自动调用built-in `__call__` 方法。"
   ]
  },
  {
   "cell_type": "code",
   "execution_count": 17,
   "metadata": {},
   "outputs": [],
   "source": [
    "import torch.nn as nn, torch\n",
    "class Module(nn.Module, HyperParameters):\n",
    "    \"\"\"The base class of models.\"\"\"\n",
    "    def __init__(self, plot_train_per_epoch=2, plot_valid_per_epoch=1):\n",
    "        super().__init__()\n",
    "        self.save_hyperparameters()\n",
    "        self.board = ProgressBoard()\n",
    "\n",
    "    def loss(self, y_hat, y):\n",
    "        raise NotImplementedError\n",
    "\n",
    "    def forward(self, X):\n",
    "        assert hasattr(self, 'net'), 'Neural network is defined'\n",
    "        return self.net(X)\n",
    "\n",
    "    def plot(self, key, value, train):\n",
    "        \"\"\"Plot a point in animation.\"\"\"\n",
    "        assert hasattr(self, 'trainer'), 'Trainer is not inited'\n",
    "        self.board.xlabel = 'epoch'\n",
    "        if train:\n",
    "            x = self.trainer.train_batch_idx / \\\n",
    "                self.trainer.num_train_batches\n",
    "            n = self.trainer.num_train_batches / \\\n",
    "                self.plot_train_per_epoch\n",
    "        else:\n",
    "            x = self.trainer.epoch + 1\n",
    "            n = self.trainer.num_val_batches / \\\n",
    "                self.plot_valid_per_epoch\n",
    "        self.board.draw(x, value.to(torch.device(\"cpu\")).detach().numpy(),\n",
    "                        ('train_' if train else 'val_') + key,\n",
    "                        every_n=int(n))\n",
    "\n",
    "    def training_step(self, batch):\n",
    "        l = self.loss(self(*batch[:-1]), batch[-1])\n",
    "        self.plot('loss', l, train=True)\n",
    "        return l\n",
    "\n",
    "    def validation_step(self, batch):\n",
    "        l = self.loss(self(*batch[:-1]), batch[-1])\n",
    "        self.plot('loss', l, train=False)\n",
    "\n",
    "    def configure_optimizers(self):\n",
    "        raise NotImplementedError"
   ]
  },
  {
   "cell_type": "markdown",
   "metadata": {},
   "source": [
    "### x.3.2 DataModule类\n",
    "\n",
    "该类主要有两个必选方法和一个可选方法。\n",
    "\n",
    "- `__init__` downloading the data and preprocessing the data.\n",
    "- `train_dataloader` returns data loader for the training set.\n",
    "- `val_dataloader(option)` returns data loader for the validaton set.\n",
    "\n",
    "其中dataloader使用了python生成器方法"
   ]
  },
  {
   "cell_type": "code",
   "execution_count": 18,
   "metadata": {},
   "outputs": [],
   "source": [
    "class DataModule(HyperParameters):\n",
    "    \"\"\"The base class of data.\"\"\"\n",
    "    def __init__(self, root='../data', num_workers=4):\n",
    "        self.save_hyperparameters()\n",
    "\n",
    "    def get_dataloader(self, train):\n",
    "        raise NotImplementedError\n",
    "\n",
    "    def train_dataloader(self):\n",
    "        return self.get_dataloader(train=True)\n",
    "\n",
    "    def val_dataloader(self):\n",
    "        return self.get_dataloader(train=False)"
   ]
  },
  {
   "cell_type": "markdown",
   "metadata": {},
   "source": [
    "### x.3.3 Trainer类\n",
    "\n",
    "trainer类几乎不用改变，它最重要的就是fit方法\n",
    "\n",
    "- `fit`: Module instance + DataModule instance + iterates till max_epochs."
   ]
  },
  {
   "cell_type": "code",
   "execution_count": 19,
   "metadata": {},
   "outputs": [],
   "source": [
    "class Trainer(HyperParameters):  #@save\n",
    "    \"\"\"The base class for training models with data.\"\"\"\n",
    "    def __init__(self, max_epochs, num_gpus=0, gradient_clip_val=0):\n",
    "        self.save_hyperparameters()\n",
    "        assert num_gpus == 0, 'No GPU support yet'\n",
    "\n",
    "    def prepare_data(self, data):\n",
    "        self.train_dataloader = data.train_dataloader()\n",
    "        self.val_dataloader = data.val_dataloader()\n",
    "        self.num_train_batches = len(self.train_dataloader)\n",
    "        self.num_val_batches = (len(self.val_dataloader)\n",
    "                                if self.val_dataloader is not None else 0)\n",
    "\n",
    "    def prepare_model(self, model):\n",
    "        model.trainer = self\n",
    "        model.board.xlim = [0, self.max_epochs]\n",
    "        self.model = model\n",
    "\n",
    "    def fit(self, model, data):\n",
    "        self.prepare_data(data)\n",
    "        self.prepare_model(model)\n",
    "        self.optim = model.configure_optimizers()\n",
    "        self.epoch = 0\n",
    "        self.train_batch_idx = 0\n",
    "        self.val_batch_idx = 0\n",
    "        for self.epoch in range(self.max_epochs):\n",
    "            self.fit_epoch()\n",
    "\n",
    "    def fit_epoch(self):\n",
    "        raise NotImplementedError"
   ]
  },
  {
   "cell_type": "markdown",
   "metadata": {},
   "source": [
    "下一章节我们将介绍具体的Module类和DataModule类和Trainer类.\n",
    "\n",
    "最终，我们将必须会使用到的基础类增加到了`core.py`脚本中."
   ]
  }
 ],
 "metadata": {
  "kernelspec": {
   "display_name": "Python 3",
   "language": "python",
   "name": "python3"
  },
  "language_info": {
   "codemirror_mode": {
    "name": "ipython",
    "version": 3
   },
   "file_extension": ".py",
   "mimetype": "text/x-python",
   "name": "python",
   "nbconvert_exporter": "python",
   "pygments_lexer": "ipython3",
   "version": "3.11.0"
  }
 },
 "nbformat": 4,
 "nbformat_minor": 2
}
