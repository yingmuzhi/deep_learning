{
 "cells": [
  {
   "cell_type": "markdown",
   "metadata": {},
   "source": [
    "目前为止，现代CNN我们已经讲完了。当然我们省略了依赖强力搜索、遗传算法、强化学习或某种其他形式的超参数优化的通过神经架构搜索（NAS）获得的网络。例如EfficientNets 是这项研究的一个显着成果 。\n",
    "\n",
    "除此之外也还有手动设计 + NAS的优势: RegNet。"
   ]
  },
  {
   "cell_type": "code",
   "execution_count": null,
   "metadata": {},
   "outputs": [],
   "source": []
  }
 ],
 "metadata": {
  "language_info": {
   "name": "python"
  }
 },
 "nbformat": 4,
 "nbformat_minor": 2
}
